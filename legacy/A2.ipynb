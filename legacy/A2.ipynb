{
 "cells": [
  {
   "cell_type": "code",
   "execution_count": 26,
   "metadata": {},
   "outputs": [
    {
     "name": "stdout",
     "output_type": "stream",
     "text": [
      "[25, 26, 27, 33, 37, 40]\n"
     ]
    }
   ],
   "source": [
    "# 로또 번호 생성기 문제\n",
    "import random\n",
    "\n",
    "def lotto(): \n",
    "    # 비복원추출 random.sample()함수로 번호 6개 생성\n",
    "    lotto_num = random.sample(range(1, 46), 6)\n",
    "        \n",
    "    # 만들어진 로또 번호를 정렬\n",
    "    lotto_num.sort()\n",
    "    print(lotto_num)\n",
    "    \n",
    "lotto()"
   ]
  },
  {
   "cell_type": "code",
   "execution_count": 31,
   "metadata": {},
   "outputs": [
    {
     "name": "stdin",
     "output_type": "stream",
     "text": [
      "문자열 입력 \n"
     ]
    },
    {
     "name": "stdout",
     "output_type": "stream",
     "text": [
      "문자의 개수:0\n",
      "가장 큰 문자열:빈 문자열 입니다.\n",
      "뒤집은 문자열:\n"
     ]
    }
   ],
   "source": [
    "# 문자열 문제\n",
    "def str_analysis():\n",
    "    target_str=input(\"문자열 입력\")\n",
    "\n",
    "    # 문자개수 출력\n",
    "    print(f\"문자의 개수:{len(target_str)}\")\n",
    "\n",
    "    # 가장 큰 문자열 출력\n",
    "    try:\n",
    "        print(f\"가장 큰 문자열:{max(target_str)}\")\n",
    "    except:\n",
    "        print(\"가장 큰 문자열:빈 문자열 입니다.\")\n",
    "\n",
    "    # 뒤집어 출력\n",
    "    print(f\"뒤집은 문자열:{target_str[::-1]}\")\n",
    "        \n",
    "\n",
    "str_analysis()"
   ]
  },
  {
   "cell_type": "code",
   "execution_count": 29,
   "metadata": {},
   "outputs": [
    {
     "name": "stdout",
     "output_type": "stream",
     "text": [
      "2021년8월27일14시16분29초\n",
      "2021년10월15일15시24분36초\n"
     ]
    }
   ],
   "source": [
    "# datetime 문제\n",
    "import datetime\n",
    "\n",
    "def time_read():\n",
    "    # 현재시간 생성\n",
    "    now=datetime.datetime.now()\n",
    "    \n",
    "    # 현재시간 출력\n",
    "    print(f\"{now.year}년{now.month}월{now.day}일{now.hour}시{now.minute}분{now.second}초\")\n",
    "    \n",
    "    # future변수에 now + 49일 1시간 8분 7초후의 시간을 저장\n",
    "    future=now+datetime.timedelta(days=49, hours=1, minutes=8, seconds=7)\n",
    "\n",
    "    # future 출력\n",
    "    print(f\"{future.year}년{future.month}월{future.day}일{future.hour}시{future.minute}분{future.second}초\")\n",
    "\n",
    "time_read()"
   ]
  },
  {
   "cell_type": "code",
   "execution_count": 34,
   "metadata": {},
   "outputs": [
    {
     "name": "stdin",
     "output_type": "stream",
     "text": [
      "input :  ko+wed@na_ver.co.kr\n"
     ]
    },
    {
     "name": "stdout",
     "output_type": "stream",
     "text": [
      "올바른 형식입니다.\n"
     ]
    }
   ],
   "source": [
    "# 정규표현식 문제\n",
    "import re\n",
    "\n",
    "def email_checker():\n",
    "    input_email = input(\"input : \")\n",
    "    \n",
    "    complie_email = re.compile('^[a-zA-Z0-9+-_.]+@[a-zA-Z0-9+-_.]+\\.[a-zA-Z0-9-.]+$')\n",
    "    match_email = complie_email.match(input_email)\n",
    "    \n",
    "    if match_email: # 제대로 매칭되는 경우\n",
    "        print('올바른 형식입니다.')\n",
    "    else: # 제대로 매칭되지 않는 경우\n",
    "        print('이메일을 조건에 맞게 입력해주세요')\n",
    "        \n",
    "email_checker()"
   ]
  },
  {
   "cell_type": "code",
   "execution_count": 2,
   "metadata": {},
   "outputs": [
    {
     "name": "stdin",
     "output_type": "stream",
     "text": [
      "1. 입력\n",
      "2. 전체출력\n",
      "3. 영어로 검색\n",
      "4. 한글로 검색\n",
      "5. 종료\n",
      " 1\n",
      "'영어:한글'로 입력해주세요. 나가기를 입력하면 메뉴로 돌아갑니다. 사과:apple\n"
     ]
    },
    {
     "name": "stdout",
     "output_type": "stream",
     "text": [
      "입력이 실패되었습니다.\n"
     ]
    },
    {
     "name": "stdin",
     "output_type": "stream",
     "text": [
      "'영어:한글'로 입력해주세요. 나가기를 입력하면 메뉴로 돌아갑니다. apple:사과\n"
     ]
    },
    {
     "name": "stdout",
     "output_type": "stream",
     "text": [
      "apple:사과 입력이 완료되었습니다.\n"
     ]
    },
    {
     "name": "stdin",
     "output_type": "stream",
     "text": [
      "'영어:한글'로 입력해주세요. 나가기를 입력하면 메뉴로 돌아갑니다. banana:바나나\n"
     ]
    },
    {
     "name": "stdout",
     "output_type": "stream",
     "text": [
      "banana:바나나 입력이 완료되었습니다.\n"
     ]
    },
    {
     "name": "stdin",
     "output_type": "stream",
     "text": [
      "'영어:한글'로 입력해주세요. 나가기를 입력하면 메뉴로 돌아갑니다. cat:고양이\n"
     ]
    },
    {
     "name": "stdout",
     "output_type": "stream",
     "text": [
      "cat:고양이 입력이 완료되었습니다.\n"
     ]
    },
    {
     "name": "stdin",
     "output_type": "stream",
     "text": [
      "'영어:한글'로 입력해주세요. 나가기를 입력하면 메뉴로 돌아갑니다. 나가기\n",
      "1. 입력\n",
      "2. 전체출력\n",
      "3. 영어로 검색\n",
      "4. 한글로 검색\n",
      "5. 종료\n",
      " 2\n"
     ]
    },
    {
     "name": "stdout",
     "output_type": "stream",
     "text": [
      "apple : 사과\n",
      "banana : 바나나\n",
      "cat : 고양이\n"
     ]
    },
    {
     "name": "stdin",
     "output_type": "stream",
     "text": [
      "1. 입력\n",
      "2. 전체출력\n",
      "3. 영어로 검색\n",
      "4. 한글로 검색\n",
      "5. 종료\n",
      " 3\n",
      "검색어를 영어로 입력하세요. 나가기를 입력하면 메뉴로 돌아갑니다. 사과\n"
     ]
    },
    {
     "name": "stdout",
     "output_type": "stream",
     "text": [
      "결과가 존재하지 않거나 잘못 입력하셨습니다.\n"
     ]
    },
    {
     "name": "stdin",
     "output_type": "stream",
     "text": [
      "검색어를 영어로 입력하세요. 나가기를 입력하면 메뉴로 돌아갑니다. apple\n"
     ]
    },
    {
     "name": "stdout",
     "output_type": "stream",
     "text": [
      "apple : 사과\n"
     ]
    },
    {
     "name": "stdin",
     "output_type": "stream",
     "text": [
      "검색어를 영어로 입력하세요. 나가기를 입력하면 메뉴로 돌아갑니다. 나가기\n",
      "1. 입력\n",
      "2. 전체출력\n",
      "3. 영어로 검색\n",
      "4. 한글로 검색\n",
      "5. 종료\n",
      " 4\n",
      "검색어를 한글로 입력하세요. 나가기를 입력하면 메뉴로 돌아갑니다. 사과\n"
     ]
    },
    {
     "name": "stdout",
     "output_type": "stream",
     "text": [
      "사과 : apple\n"
     ]
    },
    {
     "name": "stdin",
     "output_type": "stream",
     "text": [
      "검색어를 한글로 입력하세요. 나가기를 입력하면 메뉴로 돌아갑니다. apple\n"
     ]
    },
    {
     "name": "stdout",
     "output_type": "stream",
     "text": [
      "결과가 존재하지 않거나 잘못 입력하셨습니다.\n"
     ]
    },
    {
     "name": "stdin",
     "output_type": "stream",
     "text": [
      "검색어를 한글로 입력하세요. 나가기를 입력하면 메뉴로 돌아갑니다. 나가기\n",
      "1. 입력\n",
      "2. 전체출력\n",
      "3. 영어로 검색\n",
      "4. 한글로 검색\n",
      "5. 종료\n",
      " 종료\n"
     ]
    },
    {
     "name": "stdout",
     "output_type": "stream",
     "text": [
      "종료합니다.\n"
     ]
    }
   ],
   "source": [
    "# 영한사전 문제\n",
    "import re\n",
    "\n",
    "def dictionary() :\n",
    "    words = {}\n",
    "    while 1 :\n",
    "        selector = input(\"1. 입력\\n2. 전체출력\\n3. 영어로 검색\\n4. 한글로 검색\\n5. 종료\\n\")\n",
    "        \n",
    "        \n",
    "        if selector == \"1\" or selector == \"입력\" :\n",
    "            while 1:\n",
    "                inputer = input(\"'영어:한글'로 입력해주세요. 나가기를 입력하면 메뉴로 돌아갑니다.\")\n",
    "                if inputer == '나가기':\n",
    "                    break\n",
    "                try :\n",
    "                    inputWords = inputer.split(\":\")\n",
    "                    checker = re.compile('[a-zA-Z]')\n",
    "                    if checker.match(inputWords[0]) :\n",
    "                        words[inputWords[0]] = inputWords[1]\n",
    "                        print(inputer, \"입력이 완료되었습니다.\")\n",
    "                    else:\n",
    "                        raise Exception\n",
    "                except :\n",
    "                    print(\"입력이 실패되었습니다.\")\n",
    "                    \n",
    "                    \n",
    "        elif selector == \"2\" or selector == \"전체출력\" :\n",
    "            if words == {} :\n",
    "                print(\"사전이 비어있습니다.\")\n",
    "            else :\n",
    "                for key, value in words.items() :\n",
    "                    print(key, \":\", value)\n",
    "                    \n",
    "                    \n",
    "        elif selector == \"3\" or selector == \"영어로 검색\" :\n",
    "            while 1:\n",
    "                searcher = input(\"검색어를 영어로 입력하세요. 나가기를 입력하면 메뉴로 돌아갑니다.\")\n",
    "                if searcher == \"나가기\" :\n",
    "                    break\n",
    "                try :\n",
    "                    checker = re.compile('[a-zA-Z]')\n",
    "                    if checker.match(searcher):\n",
    "                        result = words[searcher]\n",
    "                        print(searcher, \":\", result)\n",
    "                    else:\n",
    "                        raise Exception\n",
    "                except :\n",
    "                    print(\"결과가 존재하지 않거나 잘못 입력하셨습니다.\")\n",
    "                    \n",
    "                    \n",
    "        elif selector == \"4\" or selector == \"한글로 검색\" :\n",
    "            while 1:\n",
    "                searcher = input(\"검색어를 한글로 입력하세요. 나가기를 입력하면 메뉴로 돌아갑니다.\")\n",
    "                if searcher == \"나가기\" :\n",
    "                    break\n",
    "                try :\n",
    "                    checker = re.compile('[가-힣]')\n",
    "                    if checker.match(searcher):\n",
    "                        for key, v in words.items() :\n",
    "                            if v == searcher :\n",
    "                                print(searcher, \":\", key)\n",
    "                    else:\n",
    "                        raise Exception\n",
    "                except :\n",
    "                    print(\"결과가 존재하지 않거나 잘못 입력하셨습니다.\")\n",
    "                    \n",
    "                    \n",
    "        elif selector == \"5\" or selector == \"종료\" :\n",
    "            print(\"종료합니다.\")\n",
    "            return\n",
    "        else :\n",
    "            print(\"다시 입력해주세요\")\n",
    "            \n",
    "            \n",
    "dictionary()"
   ]
  },
  {
   "cell_type": "code",
   "execution_count": null,
   "metadata": {},
   "outputs": [],
   "source": []
  }
 ],
 "metadata": {
  "kernelspec": {
   "display_name": "Python 3",
   "language": "python",
   "name": "python3"
  },
  "language_info": {
   "codemirror_mode": {
    "name": "ipython",
    "version": 3
   },
   "file_extension": ".py",
   "mimetype": "text/x-python",
   "name": "python",
   "nbconvert_exporter": "python",
   "pygments_lexer": "ipython3",
   "version": "3.7.6"
  }
 },
 "nbformat": 4,
 "nbformat_minor": 5
}
