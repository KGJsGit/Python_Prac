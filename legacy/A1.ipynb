{
 "cells": [
  {
   "cell_type": "code",
   "execution_count": 2,
   "metadata": {},
   "outputs": [],
   "source": [
    "import math\n",
    "import cmath"
   ]
  },
  {
   "cell_type": "markdown",
   "metadata": {},
   "source": [
    "# 변수"
   ]
  },
  {
   "cell_type": "code",
   "execution_count": 2,
   "metadata": {},
   "outputs": [
    {
     "name": "stdout",
     "output_type": "stream",
     "text": [
      "평균 = 53.333333333333336\n"
     ]
    }
   ],
   "source": [
    "score_kor = 50\n",
    "score_mat = 80\n",
    "score_eng = 30\n",
    "print(\"평균 =\", (score_kor+score_mat+score_eng)/3)"
   ]
  },
  {
   "cell_type": "code",
   "execution_count": 3,
   "metadata": {},
   "outputs": [
    {
     "name": "stdout",
     "output_type": "stream",
     "text": [
      "409298570 : 짝수\n"
     ]
    }
   ],
   "source": [
    "num_sample = 409298570\n",
    "if num_sample % 2 == 0 :\n",
    "    print(num_sample,\": 짝수\")\n",
    "else :\n",
    "    print(num_sample,\": 홀수\")"
   ]
  },
  {
   "cell_type": "code",
   "execution_count": 4,
   "metadata": {},
   "outputs": [
    {
     "name": "stdout",
     "output_type": "stream",
     "text": [
      "국어, 수학, 영어, 프로그래밍\n"
     ]
    }
   ],
   "source": [
    "text_sample = \"국어:수학:영어:프로그래밍\"\n",
    "print(text_sample.replace(\":\",\", \"))"
   ]
  },
  {
   "cell_type": "code",
   "execution_count": 5,
   "metadata": {},
   "outputs": [
    {
     "name": "stdout",
     "output_type": "stream",
     "text": [
      "[5, 80, 3, 70, 1]\n",
      "[5, 80, 3, 70, 1]\n",
      "[5, 80, 3, 70, 1]\n",
      "None\n"
     ]
    }
   ],
   "source": [
    "# case 1. list.reverse()\n",
    "list_sample = [1, 70, 3, 80, 5]\n",
    "list_sample.reverse()\n",
    "print(list_sample)\n",
    "\n",
    "# case 2. list = reversed(list)\n",
    "list_sample = [1, 70, 3, 80, 5]\n",
    "list_sample = list(reversed(list_sample))\n",
    "print(list_sample)\n",
    "\n",
    "# case 3. list[::-1]\n",
    "list_sample = [1, 70, 3, 80, 5]\n",
    "list_sample = list_sample[::-1]\n",
    "print(list_sample)\n",
    "\n",
    "# error case. list = list.reverse()\n",
    "list_sample = [1, 70, 3, 80, 5]\n",
    "list_sample = list_sample.reverse() # error\n",
    "print(list_sample)"
   ]
  },
  {
   "cell_type": "code",
   "execution_count": 6,
   "metadata": {},
   "outputs": [
    {
     "name": "stdout",
     "output_type": "stream",
     "text": [
      "파이썬은 정말 편하다\n"
     ]
    }
   ],
   "source": [
    "list_sample = [\"파이썬은\", \"정말\", \"편하다\"]\n",
    "print(\" \".join(list_sample))"
   ]
  },
  {
   "cell_type": "code",
   "execution_count": 7,
   "metadata": {},
   "outputs": [
    {
     "name": "stdout",
     "output_type": "stream",
     "text": [
      "[1, 3, 4, 5, 10, 50, 410]\n",
      "[1, 3, 4, 5, 10, 50, 410]\n",
      "None\n"
     ]
    }
   ],
   "source": [
    "# case 1. list = s orted(list)\n",
    "list_sample = [1, 50, 410, 10, 3, 4, 5]\n",
    "list_sample = sorted(list_sample)\n",
    "print(list_sample)\n",
    "\n",
    "# case 2. list.sort()\n",
    "list_sample = [1, 50, 410, 10, 3, 4, 5]\n",
    "list_sample.sort()\n",
    "print(list_sample)\n",
    "\n",
    "# error case. list.sort()는 함수의 리턴이 없기 때문에 대입연산자를 사용할 수 없음\n",
    "list_sample = [1, 50, 410, 10, 3, 4, 5]\n",
    "list_sample = list_sample.sort() # error\n",
    "print(list_sample)"
   ]
  },
  {
   "cell_type": "code",
   "execution_count": 8,
   "metadata": {},
   "outputs": [
    {
     "name": "stdout",
     "output_type": "stream",
     "text": [
      "I love python\n"
     ]
    }
   ],
   "source": [
    "text_sample = \" I love python \"\n",
    "print(text_sample.strip())"
   ]
  },
  {
   "cell_type": "markdown",
   "metadata": {},
   "source": [
    "# 제어문"
   ]
  },
  {
   "cell_type": "code",
   "execution_count": 9,
   "metadata": {},
   "outputs": [
    {
     "name": "stdout",
     "output_type": "stream",
     "text": [
      "5050\n"
     ]
    }
   ],
   "source": [
    "result= 0\n",
    "for i in range(1, 101) :\n",
    "    result += i\n",
    "print(result)"
   ]
  },
  {
   "cell_type": "code",
   "execution_count": 10,
   "metadata": {},
   "outputs": [
    {
     "name": "stdout",
     "output_type": "stream",
     "text": [
      "5050\n"
     ]
    }
   ],
   "source": [
    "result = 0\n",
    "i = 1\n",
    "while i < 101 :\n",
    "    result += i\n",
    "    i += 1\n",
    "print(result)"
   ]
  },
  {
   "cell_type": "code",
   "execution_count": 11,
   "metadata": {},
   "outputs": [
    {
     "name": "stdout",
     "output_type": "stream",
     "text": [
      "1683\n"
     ]
    }
   ],
   "source": [
    "result = 0\n",
    "for i in range(1, 101) :\n",
    "    if i % 3 == 0 :\n",
    "        result += i\n",
    "print(result)"
   ]
  },
  {
   "cell_type": "code",
   "execution_count": 12,
   "metadata": {},
   "outputs": [
    {
     "name": "stdout",
     "output_type": "stream",
     "text": [
      "79.0\n"
     ]
    }
   ],
   "source": [
    "list_sample = [70, 60, 55, 75, 95, 90, 80, 80, 85, 100]\n",
    "result = 0\n",
    "for i in list_sample :\n",
    "    result += i\n",
    "print(result/len(list_sample))"
   ]
  },
  {
   "cell_type": "code",
   "execution_count": 13,
   "metadata": {},
   "outputs": [
    {
     "name": "stdout",
     "output_type": "stream",
     "text": [
      "[2, 6, 10, 40, 90, 100, 2020]\n"
     ]
    }
   ],
   "source": [
    "list_sample = [1, 3, 5, 40, 90, 100, 2020]\n",
    "for i in range(len(list_sample)) :\n",
    "    if list_sample[i] % 2 == 1 :\n",
    "        list_sample[i] *= 2\n",
    "print(list_sample)"
   ]
  },
  {
   "cell_type": "code",
   "execution_count": 14,
   "metadata": {},
   "outputs": [
    {
     "name": "stdout",
     "output_type": "stream",
     "text": [
      "*\n",
      "**\n",
      "***\n",
      "****\n",
      "*****\n"
     ]
    }
   ],
   "source": [
    "for i in range(5) :\n",
    "    for j in range(i + 1) :\n",
    "        print('*', end = '')\n",
    "    print()"
   ]
  },
  {
   "cell_type": "markdown",
   "metadata": {},
   "source": [
    "# 함수와 입출력"
   ]
  },
  {
   "cell_type": "code",
   "execution_count": 15,
   "metadata": {},
   "outputs": [
    {
     "name": "stdin",
     "output_type": "stream",
     "text": [
      "점수 입력 :  99\n"
     ]
    },
    {
     "name": "stdout",
     "output_type": "stream",
     "text": [
      "A\n"
     ]
    }
   ],
   "source": [
    "def gradeResult() :\n",
    "    score = input('점수 입력 : ')\n",
    "    if score.isdigit() is True: \n",
    "        score = int(score)\n",
    "        if score <= 100 and score >= 80 :\n",
    "            print(\"A\")\n",
    "        elif score < 80 and score >= 50 :\n",
    "            print(\"B\")\n",
    "        elif score < 50 and score >= 30 :\n",
    "            print(\"C\")\n",
    "        elif score < 30 and score >= 0 :\n",
    "            print(\"F\")\n",
    "        else :\n",
    "            print(\"100이하의 정수 또는 0을 입력해주세요.\")\n",
    "    else:\n",
    "        print(\"잘못 입력하셨습니다.\")\n",
    "        \n",
    "gradeResult()"
   ]
  },
  {
   "cell_type": "code",
   "execution_count": 21,
   "metadata": {},
   "outputs": [
    {
     "name": "stdin",
     "output_type": "stream",
     "text": [
      "숫자 입력 :  0.0\n"
     ]
    },
    {
     "name": "stdout",
     "output_type": "stream",
     "text": [
      "잘못 입력하셨습니다\n"
     ]
    }
   ],
   "source": [
    "def evenResult() :\n",
    "    num = input('숫자 입력 : ')\n",
    "    if num.isdigit() is True:\n",
    "        num = int(num)\n",
    "        if num % 2 == 0 :\n",
    "            return True\n",
    "        else :\n",
    "            return False\n",
    "    else:\n",
    "        return \"잘못 입력하셨습니다\"\n",
    "    \n",
    "print(evenResult())"
   ]
  },
  {
   "cell_type": "code",
   "execution_count": 23,
   "metadata": {},
   "outputs": [
    {
     "name": "stdin",
     "output_type": "stream",
     "text": [
      "주민등록번호 입력 :  970710-1\n"
     ]
    },
    {
     "name": "stdout",
     "output_type": "stream",
     "text": [
      "97년생, 남자\n"
     ]
    }
   ],
   "source": [
    "def personalNum() :\n",
    "    p_num = input('주민등록번호 입력 : ')\n",
    "    if(len(p_num) < 14) :\n",
    "        pass\n",
    "    print(p_num[:2], end='년생, ')\n",
    "    if(p_num[7] == '1') :\n",
    "        print(\"남자\")\n",
    "    elif(p_num[7] == '2') :\n",
    "        print(\"여자\")\n",
    "    else :\n",
    "        print(\"알 수 없음\")\n",
    "        \n",
    "personalNum()"
   ]
  },
  {
   "cell_type": "code",
   "execution_count": 25,
   "metadata": {},
   "outputs": [
    {
     "name": "stdin",
     "output_type": "stream",
     "text": [
      "숫자 입력 :  1\n",
      "부호 입력 :  1\n",
      "숫자 입력 :  1\n"
     ]
    },
    {
     "name": "stdout",
     "output_type": "stream",
     "text": [
      "부호를 잘못 입력하셨습니다\n"
     ]
    }
   ],
   "source": [
    "def calcFunction() :\n",
    "    num1 = int(input('숫자 입력 : '))\n",
    "    sign = input('부호 입력 : ')\n",
    "    num2 = int(input('숫자 입력 : '))\n",
    "    \n",
    "    if sign == '+' :\n",
    "        print(num1 + num2)\n",
    "    elif sign == '-' :\n",
    "        print(num1 - num2)\n",
    "    elif sign == '*' :\n",
    "        print(num1 * num2)\n",
    "    elif sign == '/' :\n",
    "        if(num2 == 0) :\n",
    "            print(\"0으로는 나눌 수 없습니다.\")\n",
    "        print(num1 / num2)\n",
    "    elif sign == '%' :\n",
    "        if(num2 == 0) :\n",
    "            print(\"0으로는 나눌 수 없습니다.\")\n",
    "        print(num1 % num2)\n",
    "    else : \n",
    "        print(\"부호를 잘못 입력하셨습니다\")\n",
    "        \n",
    "calcFunction()"
   ]
  },
  {
   "cell_type": "code",
   "execution_count": 11,
   "metadata": {},
   "outputs": [
    {
     "name": "stdin",
     "output_type": "stream",
     "text": [
      "숫자 입력 :  15616\n"
     ]
    },
    {
     "name": "stdout",
     "output_type": "stream",
     "text": [
      "5000원 : 3개\n",
      "1000원 : 0개\n",
      "500원 : 1개\n",
      "100원 : 1개\n",
      "50원 : 0개\n",
      "10원 : 1개\n"
     ]
    }
   ],
   "source": [
    "def changeFunction() :\n",
    "    money = input('숫자 입력 : ')\n",
    "    if money.isdigit() is True:\n",
    "        money = int(money)\n",
    "        c_list = [5000, 1000, 500, 100, 50, 10]\n",
    "        for i in c_list :\n",
    "            print(\"%d원 : %d개\" %(i, money / i))\n",
    "            money = money % i\n",
    "    else:\n",
    "        print(\"잘못 입력하셨습니다.\")\n",
    "        \n",
    "changeFunction()"
   ]
  },
  {
   "cell_type": "code",
   "execution_count": 10,
   "metadata": {},
   "outputs": [
    {
     "name": "stdin",
     "output_type": "stream",
     "text": [
      "이차방정식 입력 ex) 1x^2+4x+7:  1x^2+4x+7\n"
     ]
    },
    {
     "name": "stdout",
     "output_type": "stream",
     "text": [
      "x1과 x2는 허근입니다.\n"
     ]
    }
   ],
   "source": [
    "def equationResult() :\n",
    "    equation = input('이차방정식 입력 ex) 1x^2+4x+7: ')\n",
    "    a = float(equation.split(\"x^2\")[0])\n",
    "    b = float(equation.split(\"x^2\")[1].split(\"x\")[0])\n",
    "    c = float(equation.split(\"x^2\")[1].split(\"x\")[1])\n",
    "    disc = (b * b) - (4 * a * c)\n",
    "    if disc > 0 :\n",
    "        x1 = (- b + cmath.sqrt(disc)) / (2 * a)\n",
    "        x2 = (- b - cmath.sqrt(disc)) / (2 * a)\n",
    "        print(\"x1 = %f, x2 = %f\" %(x1, x2))\n",
    "    elif disc == 0:\n",
    "        x = (- b + cmath.sqrt(disc)) / (2 * a)\n",
    "        print(\"x1 = x2 =\", x)\n",
    "    else :\n",
    "        print(\"x1과 x2는 허근입니다.\")\n",
    "    \n",
    "equationResult()"
   ]
  },
  {
   "cell_type": "code",
   "execution_count": null,
   "metadata": {},
   "outputs": [],
   "source": []
  }
 ],
 "metadata": {
  "kernelspec": {
   "display_name": "Python 3",
   "language": "python",
   "name": "python3"
  },
  "language_info": {
   "codemirror_mode": {
    "name": "ipython",
    "version": 3
   },
   "file_extension": ".py",
   "mimetype": "text/x-python",
   "name": "python",
   "nbconvert_exporter": "python",
   "pygments_lexer": "ipython3",
   "version": "3.7.6"
  }
 },
 "nbformat": 4,
 "nbformat_minor": 4
}
