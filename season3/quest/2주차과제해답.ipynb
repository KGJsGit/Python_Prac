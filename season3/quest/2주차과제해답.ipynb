{
 "cells": [
  {
   "cell_type": "code",
   "execution_count": 2,
   "metadata": {},
   "outputs": [
    {
     "name": "stdout",
     "output_type": "stream",
     "text": [
      "[7, 9, 14, 31, 34, 43]\n"
     ]
    }
   ],
   "source": [
    "import random\n",
    "\n",
    "def lotto() :\n",
    "    elements = random.sample(range(1, 46), 6)\n",
    "    elements.sort()\n",
    "    return elements\n",
    "\n",
    "print(lotto())"
   ]
  },
  {
   "cell_type": "code",
   "execution_count": 12,
   "metadata": {},
   "outputs": [
    {
     "name": "stdin",
     "output_type": "stream",
     "text": [
      "문자열을 입력하세요 :  51351aegjlb@&@%\n"
     ]
    },
    {
     "name": "stdout",
     "output_type": "stream",
     "text": [
      "문자의 개수 : 15\n",
      "가장 큰 문자열 : l\n",
      "뒤집은 문자열 : %@&@bljgea15315\n"
     ]
    }
   ],
   "source": [
    "def stringAnal() :\n",
    "    targetString = str(input(\"문자열을 입력하세요 : \"))\n",
    "    print(\"문자의 개수 :\", len(targetString))\n",
    "    try :\n",
    "        print(\"가장 큰 문자열 :\", max(targetString))\n",
    "    except :\n",
    "        print(\"가장 큰 문자열 : 형식이 잘 못되었습니다.\")\n",
    "    print(\"뒤집은 문자열 :\", targetString[::-1])\n",
    "stringAnal()"
   ]
  },
  {
   "cell_type": "code",
   "execution_count": 2,
   "metadata": {},
   "outputs": [
    {
     "name": "stdout",
     "output_type": "stream",
     "text": [
      "현재 : 2020년09월22일 23시05분31초\n",
      "미래 : 2020년11월11일 00시13분38초\n"
     ]
    }
   ],
   "source": [
    "import datetime\n",
    "\n",
    "def timer() :\n",
    "    present = datetime.datetime.now()\n",
    "    print(\"현재 :\", present.strftime(\"%Y년%m월%d일 %H시%M분%S초\".encode('unicode-escape').decode()).encode().decode('unicode-escape'))\n",
    "    future = present + datetime.timedelta(days=49, hours=1, minutes=8, seconds=7)\n",
    "    print(\"미래 :\", future.strftime(\"%Y년%m월%d일 %H시%M분%S초\".encode('unicode-escape').decode()).encode().decode('unicode-escape'))\n",
    "timer()"
   ]
  },
  {
   "cell_type": "code",
   "execution_count": 5,
   "metadata": {},
   "outputs": [
    {
     "name": "stdin",
     "output_type": "stream",
     "text": [
      "0. 사전입력\n",
      "1. 전체출력\n",
      "2. 영어로 검색\n",
      "3. 한글로 검색\n",
      "4. 종료\n",
      " 0\n",
      "'영어:한글'로 입력해주세요. apple:사과\n"
     ]
    },
    {
     "name": "stdout",
     "output_type": "stream",
     "text": [
      "apple:사과 입력이 완료되었습니다.\n"
     ]
    },
    {
     "name": "stdin",
     "output_type": "stream",
     "text": [
      "0. 사전입력\n",
      "1. 전체출력\n",
      "2. 영어로 검색\n",
      "3. 한글로 검색\n",
      "4. 종료\n",
      " 0\n",
      "'영어:한글'로 입력해주세요. banana:바나나\n"
     ]
    },
    {
     "name": "stdout",
     "output_type": "stream",
     "text": [
      "banana:바나나 입력이 완료되었습니다.\n"
     ]
    },
    {
     "name": "stdin",
     "output_type": "stream",
     "text": [
      "0. 사전입력\n",
      "1. 전체출력\n",
      "2. 영어로 검색\n",
      "3. 한글로 검색\n",
      "4. 종료\n",
      " 1\n"
     ]
    },
    {
     "name": "stdout",
     "output_type": "stream",
     "text": [
      "apple : 사과\n",
      "banana : 바나나\n"
     ]
    },
    {
     "name": "stdin",
     "output_type": "stream",
     "text": [
      "0. 사전입력\n",
      "1. 전체출력\n",
      "2. 영어로 검색\n",
      "3. 한글로 검색\n",
      "4. 종료\n",
      " 2\n",
      "검색어를 영어로 입력하세요. apple\n"
     ]
    },
    {
     "name": "stdout",
     "output_type": "stream",
     "text": [
      "apple : 사과\n"
     ]
    },
    {
     "name": "stdin",
     "output_type": "stream",
     "text": [
      "0. 사전입력\n",
      "1. 전체출력\n",
      "2. 영어로 검색\n",
      "3. 한글로 검색\n",
      "4. 종료\n",
      " 3\n",
      "검색어를 한글로 입력하세요. 바나나\n"
     ]
    },
    {
     "name": "stdout",
     "output_type": "stream",
     "text": [
      "바나나 : banana\n"
     ]
    },
    {
     "name": "stdin",
     "output_type": "stream",
     "text": [
      "0. 사전입력\n",
      "1. 전체출력\n",
      "2. 영어로 검색\n",
      "3. 한글로 검색\n",
      "4. 종료\n",
      " 4\n"
     ]
    },
    {
     "name": "stdout",
     "output_type": "stream",
     "text": [
      "종료합니다.\n"
     ]
    }
   ],
   "source": [
    "def dictionary() :\n",
    "    words = {}\n",
    "    while 1 :\n",
    "        selector = input(\"0. 사전입력\\n1. 전체출력\\n2. 영어로 검색\\n3. 한글로 검색\\n4. 종료\\n\")\n",
    "        if selector == \"0\" or selector == \"사전입력\" :\n",
    "            inputer = input(\"'영어:한글'로 입력해주세요.\")\n",
    "            try :\n",
    "                inputWords = inputer.split(\":\")\n",
    "                words[inputWords[0]] = inputWords[1]\n",
    "                print(inputer, \"입력이 완료되었습니다.\")\n",
    "            except :\n",
    "                print(\"입력이 실패되었습니다.\")\n",
    "        elif selector == \"1\" or selector == \"전체출력\" :\n",
    "            if words == {} :\n",
    "                print(\"사전이 비어있습니다.\")\n",
    "            else :\n",
    "                for key, value in words.items() :\n",
    "                    print(key, \":\", value)\n",
    "        elif selector == \"2\" or selector == \"영어로 검색\" :\n",
    "            searcher = input(\"검색어를 영어로 입력하세요.\")\n",
    "            try :\n",
    "                result = words[searcher]\n",
    "                print(searcher, \":\", result)\n",
    "            except :\n",
    "                print(\"결과가 존재하지 않습니다.\")\n",
    "        elif selector == \"3\" or selector == \"한글로 검색\" :\n",
    "            searcher = input(\"검색어를 한글로 입력하세요.\")\n",
    "            if searcher in words.values() :\n",
    "                for key, value in words.items() :\n",
    "                    if value == searcher :\n",
    "                        print(searcher, \":\", key)\n",
    "            else :\n",
    "                print(\"결과가 존재하지 않습니다.\")\n",
    "        elif selector == \"4\" or selector == \"종료\" :\n",
    "            print(\"종료합니다.\")\n",
    "            return\n",
    "        else :\n",
    "            print(\"다시 입력해주세요\")\n",
    "dictionary()"
   ]
  }
 ],
 "metadata": {
  "kernelspec": {
   "display_name": "Python 3",
   "language": "python",
   "name": "python3"
  },
  "language_info": {
   "codemirror_mode": {
    "name": "ipython",
    "version": 3
   },
   "file_extension": ".py",
   "mimetype": "text/x-python",
   "name": "python",
   "nbconvert_exporter": "python",
   "pygments_lexer": "ipython3",
   "version": "3.7.6"
  }
 },
 "nbformat": 4,
 "nbformat_minor": 4
}
